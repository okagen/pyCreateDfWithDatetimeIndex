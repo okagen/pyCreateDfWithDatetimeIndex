{
 "cells": [
  {
   "cell_type": "markdown",
   "metadata": {},
   "source": [
    "## Get all actual data from the csv files, and set date as index."
   ]
  },
  {
   "cell_type": "code",
   "execution_count": 1,
   "metadata": {},
   "outputs": [],
   "source": [
    "import configparser\n",
    "import pandas as pd\n",
    "import ast\n",
    "import glob\n",
    "import numpy as np\n",
    "import matplotlib.pyplot as plt\n",
    "import matplotlib.dates as mdates"
   ]
  },
  {
   "cell_type": "code",
   "execution_count": 2,
   "metadata": {},
   "outputs": [],
   "source": [
    "import constants as con"
   ]
  },
  {
   "cell_type": "markdown",
   "metadata": {},
   "source": [
    "Constants file contains like below.\n",
    "~~~\n",
    "csv_encoding = 'Shift_JISx0213'\n",
    "csv_path = '..\\\\data\\\\**\\\\E_Detail*.csv'\n",
    "necessary_columns = ['Date', 'Class1', 'Class2', 'Class3', 'Col-1', 'Col-2', 'Col-3', 'Col-4', 'Col-5', 'Col-6', 'Col-7']\n",
    "~~~"
   ]
  },
  {
   "cell_type": "markdown",
   "metadata": {},
   "source": [
    "Find all csv files in the directory."
   ]
  },
  {
   "cell_type": "code",
   "execution_count": 3,
   "metadata": {},
   "outputs": [
    {
     "name": "stdout",
     "output_type": "stream",
     "text": [
      "['..\\\\data\\\\20190621\\\\E_Detail_20190621.csv', '..\\\\data\\\\20190622\\\\E_Detail_20190622.csv', '..\\\\data\\\\20190623\\\\E_Detail_20190623.csv', '..\\\\data\\\\20190624\\\\E_Detail_20190624.csv', '..\\\\data\\\\20190625\\\\E_Detail_20190625.csv', '..\\\\data\\\\20190626\\\\E_Detail_20190626.csv', '..\\\\data\\\\20190627\\\\E_Detail_20190627.csv', '..\\\\data\\\\20190628\\\\E_Detail_20190628.csv', '..\\\\data\\\\20190629\\\\E_Detail_20190629.csv', '..\\\\data\\\\20190630\\\\E_Detail_20190630.csv', '..\\\\data\\\\20190701\\\\E_Detail_20190701.csv', '..\\\\data\\\\20190702\\\\E_Detail_20190702.csv', '..\\\\data\\\\20190703\\\\E_Detail_20190703.csv']\n"
     ]
    }
   ],
   "source": [
    "csvs = glob.glob(con.csv_path)\n",
    "print(csvs)"
   ]
  },
  {
   "cell_type": "markdown",
   "metadata": {},
   "source": [
    "Get all data from csvs."
   ]
  },
  {
   "cell_type": "code",
   "execution_count": 6,
   "metadata": {},
   "outputs": [
    {
     "data": {
      "text/html": [
       "<div>\n",
       "<style scoped>\n",
       "    .dataframe tbody tr th:only-of-type {\n",
       "        vertical-align: middle;\n",
       "    }\n",
       "\n",
       "    .dataframe tbody tr th {\n",
       "        vertical-align: top;\n",
       "    }\n",
       "\n",
       "    .dataframe thead th {\n",
       "        text-align: right;\n",
       "    }\n",
       "</style>\n",
       "<table border=\"1\" class=\"dataframe\">\n",
       "  <thead>\n",
       "    <tr style=\"text-align: right;\">\n",
       "      <th></th>\n",
       "      <th>集計日</th>\n",
       "      <th>教科</th>\n",
       "      <th>設問番号</th>\n",
       "      <th>設問種別</th>\n",
       "      <th>採点完了件数</th>\n",
       "      <th>2回目採点待ち残数</th>\n",
       "      <th>否認採点待ち残数</th>\n",
       "      <th>検知採点待ち残数</th>\n",
       "      <th>類型不一致採点待ち残数</th>\n",
       "      <th>正誤不一致採点待ち残数</th>\n",
       "      <th>リーダー待ち残数</th>\n",
       "    </tr>\n",
       "  </thead>\n",
       "  <tbody>\n",
       "    <tr>\n",
       "      <th>0</th>\n",
       "      <td>19-06-21</td>\n",
       "      <td>国</td>\n",
       "      <td>1</td>\n",
       "      <td>M</td>\n",
       "      <td>0</td>\n",
       "      <td>0</td>\n",
       "      <td>0</td>\n",
       "      <td>0</td>\n",
       "      <td>0</td>\n",
       "      <td>0</td>\n",
       "      <td>0</td>\n",
       "    </tr>\n",
       "    <tr>\n",
       "      <th>1</th>\n",
       "      <td>19-06-21</td>\n",
       "      <td>国</td>\n",
       "      <td>2</td>\n",
       "      <td>M</td>\n",
       "      <td>0</td>\n",
       "      <td>0</td>\n",
       "      <td>0</td>\n",
       "      <td>0</td>\n",
       "      <td>0</td>\n",
       "      <td>0</td>\n",
       "      <td>0</td>\n",
       "    </tr>\n",
       "    <tr>\n",
       "      <th>2</th>\n",
       "      <td>19-06-21</td>\n",
       "      <td>国</td>\n",
       "      <td>3</td>\n",
       "      <td>M</td>\n",
       "      <td>0</td>\n",
       "      <td>0</td>\n",
       "      <td>0</td>\n",
       "      <td>0</td>\n",
       "      <td>0</td>\n",
       "      <td>0</td>\n",
       "      <td>0</td>\n",
       "    </tr>\n",
       "    <tr>\n",
       "      <th>3</th>\n",
       "      <td>19-06-21</td>\n",
       "      <td>国</td>\n",
       "      <td>4</td>\n",
       "      <td>短</td>\n",
       "      <td>0</td>\n",
       "      <td>0</td>\n",
       "      <td>0</td>\n",
       "      <td>0</td>\n",
       "      <td>0</td>\n",
       "      <td>0</td>\n",
       "      <td>0</td>\n",
       "    </tr>\n",
       "    <tr>\n",
       "      <th>4</th>\n",
       "      <td>19-06-21</td>\n",
       "      <td>国</td>\n",
       "      <td>5</td>\n",
       "      <td>短</td>\n",
       "      <td>0</td>\n",
       "      <td>0</td>\n",
       "      <td>0</td>\n",
       "      <td>0</td>\n",
       "      <td>0</td>\n",
       "      <td>0</td>\n",
       "      <td>0</td>\n",
       "    </tr>\n",
       "  </tbody>\n",
       "</table>\n",
       "</div>"
      ],
      "text/plain": [
       "        集計日 教科  設問番号 設問種別  採点完了件数  2回目採点待ち残数  否認採点待ち残数  検知採点待ち残数  類型不一致採点待ち残数  \\\n",
       "0  19-06-21  国     1    M       0          0         0         0            0   \n",
       "1  19-06-21  国     2    M       0          0         0         0            0   \n",
       "2  19-06-21  国     3    M       0          0         0         0            0   \n",
       "3  19-06-21  国     4    短       0          0         0         0            0   \n",
       "4  19-06-21  国     5    短       0          0         0         0            0   \n",
       "\n",
       "   正誤不一致採点待ち残数  リーダー待ち残数  \n",
       "0            0         0  \n",
       "1            0         0  \n",
       "2            0         0  \n",
       "3            0         0  \n",
       "4            0         0  "
      ]
     },
     "metadata": {},
     "output_type": "display_data"
    }
   ],
   "source": [
    "df = pd.DataFrame()\n",
    "for csv in csvs:\n",
    "    dfTmp = pd.read_csv(csv, encoding=con.csv_encoding)\n",
    "    df = df.append(dfTmp[con.necessary_columns])\n",
    "\n",
    "display(df.head(5))"
   ]
  },
  {
   "cell_type": "code",
   "execution_count": null,
   "metadata": {},
   "outputs": [],
   "source": []
  }
 ],
 "metadata": {
  "kernelspec": {
   "display_name": "Python 3",
   "language": "python",
   "name": "python3"
  },
  "language_info": {
   "codemirror_mode": {
    "name": "ipython",
    "version": 3
   },
   "file_extension": ".py",
   "mimetype": "text/x-python",
   "name": "python",
   "nbconvert_exporter": "python",
   "pygments_lexer": "ipython3",
   "version": "3.7.3"
  }
 },
 "nbformat": 4,
 "nbformat_minor": 2
}
